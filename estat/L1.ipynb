{
 "cells": [
  {
   "cell_type": "markdown",
   "id": "34cc6b55",
   "metadata": {},
   "source": [
    "Esse código permite que o notebook funcione com qualquer nome de arquivo .csv. Ao carregar o arquivo, pegamos o nome diretamente do dicionário 'uploaded', tornando desnecessário renomeá-lo antes de rodar o código.\n",
    "\n",
    "Para isso:\n",
    "\n",
    "    Selecione choose file\n",
    "    Na janela aberta selecione o arquivo .csv que deve ser analizado"
   ]
  },
  {
   "cell_type": "code",
   "execution_count": null,
   "id": "76d4e846",
   "metadata": {},
   "outputs": [],
   "source": [
    "# from google.colab import files\n",
    "# uploaded = files.upload()\n",
    "# file_name = next(iter(uploaded))"
   ]
  },
  {
   "cell_type": "markdown",
   "id": "2bd26583",
   "metadata": {},
   "source": [
    "Importa biblioteca pandas como pd"
   ]
  },
  {
   "cell_type": "code",
   "execution_count": 16,
   "id": "d85d810c-a690-4cbe-b354-5359d032f507",
   "metadata": {},
   "outputs": [],
   "source": [
    "import pandas as pd"
   ]
  },
  {
   "cell_type": "markdown",
   "id": "68b1e812",
   "metadata": {},
   "source": [
    "Le os dados do arquivo kanet.csv\n"
   ]
  },
  {
   "cell_type": "code",
   "execution_count": 17,
   "id": "6f1e17cd-fe9d-435a-9315-2418d492e4ed",
   "metadata": {},
   "outputs": [],
   "source": [
    "data = pd.read_csv('kanet.csv')"
   ]
  },
  {
   "cell_type": "markdown",
   "id": "0007d5df",
   "metadata": {},
   "source": [
    "armazena dentro de df os dados em formato de tabela"
   ]
  },
  {
   "cell_type": "code",
   "execution_count": 18,
   "id": "4750f105-8795-4ab0-ac54-268c7adf0a31",
   "metadata": {},
   "outputs": [],
   "source": [
    "df = pd.DataFrame(data)"
   ]
  },
  {
   "cell_type": "markdown",
   "id": "1f0415ec",
   "metadata": {},
   "source": [
    "separa em grupo 1 e 2"
   ]
  },
  {
   "cell_type": "code",
   "execution_count": 19,
   "id": "91518ab2-3f9e-482a-8765-bf935c857288",
   "metadata": {},
   "outputs": [],
   "source": [
    "group1 = df[df[\"group\"] == 1]\n",
    "group2 = df[df[\"group\"] == 2]"
   ]
  },
  {
   "cell_type": "markdown",
   "id": "1401f9ca",
   "metadata": {},
   "source": [
    "calcula media da Idade, Estatura, Envergadura, Altura sentado, Altura ajoelhado, Cubito e Pé Esquerdo de ambos os grupos"
   ]
  },
  {
   "cell_type": "code",
   "execution_count": 20,
   "id": "512f106e-0772-4a1c-8971-9f47d8574af6",
   "metadata": {},
   "outputs": [],
   "source": [
    "mean_group1_age = group1[\"age\"].mean()\n",
    "mean_group2_age = group2[\"age\"].mean()\n",
    "\n",
    "mean_group1_height = group1[\"height\"].mean()\n",
    "mean_group2_height = group2[\"height\"].mean()\n",
    "\n",
    "mean_group1_span = group1[\"armspan\"].mean()\n",
    "mean_group2_span = group2[\"armspan\"].mean()\n",
    "\n",
    "mean_group1_seatHt = group1[\"seatHt\"].mean()\n",
    "mean_group2_seatHt = group2[\"seatHt\"].mean()\n",
    "\n",
    "mean_group1_kneelHt = group1[\"kneelHt\"].mean()\n",
    "mean_group2_kneelHt = group2[\"kneelHt\"].mean()\n",
    "\n",
    "mean_group1_cubit = group1[\"cubit\"].mean()\n",
    "mean_group2_cubit = group2[\"cubit\"].mean()\n",
    "\n",
    "mean_group1_leftFtLen = group1[\"leftFtLen\"].mean()\n",
    "mean_group2_leftFtLen = group2[\"leftFtLen\"].mean()\n",
    "\n"
   ]
  },
  {
   "cell_type": "markdown",
   "id": "35f67d9b",
   "metadata": {},
   "source": [
    "mostra a media das medidas antropometricas dos 2 grupos"
   ]
  },
  {
   "cell_type": "code",
   "execution_count": 21,
   "id": "3bba466a-cce9-492b-b183-f1b41f670633",
   "metadata": {},
   "outputs": [
    {
     "data": {
      "text/plain": [
       "(161.83333333333334,\n",
       " 165.41666666666666,\n",
       " 165.86666666666667,\n",
       " 169.5,\n",
       " 86.16666666666667,\n",
       " 86.55,\n",
       " 120.23333333333333,\n",
       " 122.56666666666666,\n",
       " 44.656666666666666,\n",
       " 45.298333333333325,\n",
       " 24.103333333333335,\n",
       " 24.956666666666663)"
      ]
     },
     "execution_count": 21,
     "metadata": {},
     "output_type": "execute_result"
    }
   ],
   "source": [
    "mean_group1_height, mean_group2_height, mean_group1_span, mean_group2_span, mean_group1_seatHt, mean_group2_seatHt, mean_group1_kneelHt, mean_group2_kneelHt, mean_group1_cubit, mean_group2_cubit, mean_group1_leftFtLen, mean_group2_leftFtLen"
   ]
  },
  {
   "cell_type": "markdown",
   "id": "51d00904",
   "metadata": {},
   "source": [
    "mostra qual grupo é mais alto e tem maior envergadura"
   ]
  },
  {
   "cell_type": "code",
   "execution_count": 22,
   "id": "549adb3e-1040-4a87-84be-e077e06003bc",
   "metadata": {},
   "outputs": [
    {
     "name": "stdout",
     "output_type": "stream",
     "text": [
      "Os grupos são diferentes\n"
     ]
    }
   ],
   "source": [
    "# Compara a media das medidas antropometricas dos 2 grupos\n",
    "\n",
    "if (mean_group1_height == mean_group2_height and\n",
    "    mean_group1_span == mean_group2_span and\n",
    "    mean_group1_seatHt == mean_group2_seatHt and\n",
    "    mean_group1_kneelHt == mean_group2_kneelHt and\n",
    "    mean_group1_cubit == mean_group2_cubit and\n",
    "    mean_group1_leftFtLen == mean_group2_leftFtLen):\n",
    "    print(\"Os grupos não são iguais\")\n",
    "else:\n",
    "    print(\"Os grupos são diferentes\")\n"
   ]
  }
 ],
 "metadata": {
  "kernelspec": {
   "display_name": "base",
   "language": "python",
   "name": "python3"
  },
  "language_info": {
   "codemirror_mode": {
    "name": "ipython",
    "version": 3
   },
   "file_extension": ".py",
   "mimetype": "text/x-python",
   "name": "python",
   "nbconvert_exporter": "python",
   "pygments_lexer": "ipython3",
   "version": "3.12.4"
  }
 },
 "nbformat": 4,
 "nbformat_minor": 5
}
