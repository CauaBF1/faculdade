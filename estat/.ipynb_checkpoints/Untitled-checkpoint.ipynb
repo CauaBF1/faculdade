{
 "cells": [
  {
   "cell_type": "code",
   "execution_count": 21,
   "id": "f8a75740-f6be-4b5e-865e-1ad285b2f69a",
   "metadata": {},
   "outputs": [],
   "source": [
    "#Importa biblioteca pandas como pd"
   ]
  },
  {
   "cell_type": "code",
   "execution_count": 23,
   "id": "d85d810c-a690-4cbe-b354-5359d032f507",
   "metadata": {},
   "outputs": [],
   "source": [
    "import pandas as pd"
   ]
  },
  {
   "cell_type": "code",
   "execution_count": null,
   "id": "bdf9f715-8144-43ff-b9f5-b0cc5ac22500",
   "metadata": {},
   "outputs": [],
   "source": [
    "#Cria um dicionario chamado data para receber os dados"
   ]
  },
  {
   "cell_type": "code",
   "execution_count": 7,
   "id": "6f1e17cd-fe9d-435a-9315-2418d492e4ed",
   "metadata": {},
   "outputs": [],
   "source": [
    "data = {\n",
    "    \"Group\": [1, 1, 1, 1, 1, 1, 1, 1, 1, 1, 1, 1, 1, 1, 1, 1, 1, 1, 1, 1, 1, 1, 1, 1, 1, 1, 1, 1, 1, 1, 2, 2, 2, 2, 2, 2, 2, 2, 2, 2, 2, 2, 2, 2, 2, 2, 2, 2, 2, 2, 2, 2, 2, 2, 2, 2, 2, 2, 2, 2],\n",
    "    \"Height\": [166, 171, 162, 164, 158, 163, 145, 161, 165, 162, 164, 172, 163, 164, 164, 160, 170, 148, 159, 161, 153, 155, 168, 160, 159, 165, 159, 160, 175, 162, 162, 169, 165, 172, 163, 171, 163, 160, 163, 168, 165, 173, 166, 165, 159, 169, 169, 170, 167, 166, 164, 170, 165, 172, 160, 168, 170, 176, 157, 169],\n",
    "    \"Arm Span\": [164, 174, 161, 174, 165, 164, 144, 166, 162, 166, 170, 182, 166, 169, 165, 164, 170, 163, 158, 168, 158, 161, 174, 167, 159, 173, 164, 163, 179, 162, 162, 168, 167, 172, 170, 171, 170, 169, 167, 175, 174, 173, 171, 170, 164, 177, 175, 180, 172, 172, 161, 174, 175, 178, 166, 167, 175, 180, 162, 175],\n",
    "}"
   ]
  },
  {
   "cell_type": "code",
   "execution_count": null,
   "id": "0701707b-456b-4704-a8a6-94cfe076108b",
   "metadata": {},
   "outputs": [],
   "source": [
    "# armazena dentro de df os dados em formato de tabela"
   ]
  },
  {
   "cell_type": "code",
   "execution_count": 11,
   "id": "4750f105-8795-4ab0-ac54-268c7adf0a31",
   "metadata": {},
   "outputs": [],
   "source": [
    "df = pd.DataFrame(data)"
   ]
  },
  {
   "cell_type": "code",
   "execution_count": null,
   "id": "625dc779-5464-46d5-8bbc-127102e8f53d",
   "metadata": {},
   "outputs": [],
   "source": [
    "# separa em grupo 1 e 2"
   ]
  },
  {
   "cell_type": "code",
   "execution_count": 13,
   "id": "91518ab2-3f9e-482a-8765-bf935c857288",
   "metadata": {},
   "outputs": [],
   "source": [
    "group1 = df[df[\"Group\"] == 1]\n",
    "group2 = df[df[\"Group\"] == 2]"
   ]
  },
  {
   "cell_type": "code",
   "execution_count": null,
   "id": "189ed2f2-d162-403b-a184-9f69e843d26f",
   "metadata": {},
   "outputs": [],
   "source": [
    "# calcula media da altura e envergadura do grupo 1 e 2"
   ]
  },
  {
   "cell_type": "code",
   "execution_count": 15,
   "id": "512f106e-0772-4a1c-8971-9f47d8574af6",
   "metadata": {},
   "outputs": [],
   "source": [
    "mean_group1_height = group1[\"Height\"].mean()\n",
    "mean_group2_height = group2[\"Height\"].mean()\n",
    "\n",
    "mean_group1_span = group1[\"Arm Span\"].mean()\n",
    "mean_group2_span = group2[\"Arm Span\"].mean()"
   ]
  },
  {
   "cell_type": "code",
   "execution_count": null,
   "id": "8561af2c-6f17-449e-a284-b9733139e6ad",
   "metadata": {},
   "outputs": [],
   "source": [
    "# mostra a media das alturas e envergaduras dos dois grupos"
   ]
  },
  {
   "cell_type": "code",
   "execution_count": 17,
   "id": "3bba466a-cce9-492b-b183-f1b41f670633",
   "metadata": {},
   "outputs": [
    {
     "data": {
      "text/plain": [
       "(161.93333333333334,\n",
       " 166.53333333333333,\n",
       " 165.83333333333334,\n",
       " 171.06666666666666)"
      ]
     },
     "execution_count": 17,
     "metadata": {},
     "output_type": "execute_result"
    }
   ],
   "source": [
    "mean_group1_height, mean_group2_height, mean_group1_span, mean_group2_span"
   ]
  },
  {
   "cell_type": "code",
   "execution_count": null,
   "id": "d8361f11-8046-4116-8a8c-2ce8e4b8d091",
   "metadata": {},
   "outputs": [],
   "source": [
    "# mostra qual grupo é mais alto e tem maior envergadura"
   ]
  },
  {
   "cell_type": "code",
   "execution_count": 19,
   "id": "549adb3e-1040-4a87-84be-e077e06003bc",
   "metadata": {},
   "outputs": [
    {
     "name": "stdout",
     "output_type": "stream",
     "text": [
      "O Grupo 2 é mais alto, em média.\n",
      "O Grupo 2 tem maior envergadura, em média.\n"
     ]
    }
   ],
   "source": [
    "# Comparar médias de altura\n",
    "if mean_group1_height > mean_group2_height:\n",
    "    print(\"O Grupo 1 é mais alto, em média.\")\n",
    "elif mean_group1_height < mean_group2_height:\n",
    "    print(\"O Grupo 2 é mais alto, em média.\")\n",
    "else:\n",
    "    print(\"As médias de altura são iguais.\")\n",
    "\n",
    "# Comparar médias de envergadura\n",
    "if mean_group1_span > mean_group2_span:\n",
    "    print(\"O Grupo 1 tem maior envergadura, em média.\")\n",
    "elif mean_group1_span < mean_group2_span:\n",
    "    print(\"O Grupo 2 tem maior envergadura, em média.\")\n",
    "else:\n",
    "    print(\"As médias de envergadura são iguais.\")\n"
   ]
  },
  {
   "cell_type": "code",
   "execution_count": null,
   "id": "82684bea-4b2e-4a54-9f1f-5ae0708f2193",
   "metadata": {},
   "outputs": [],
   "source": []
  }
 ],
 "metadata": {
  "kernelspec": {
   "display_name": "Python 3 (ipykernel)",
   "language": "python",
   "name": "python3"
  },
  "language_info": {
   "codemirror_mode": {
    "name": "ipython",
    "version": 3
   },
   "file_extension": ".py",
   "mimetype": "text/x-python",
   "name": "python",
   "nbconvert_exporter": "python",
   "pygments_lexer": "ipython3",
   "version": "3.12.4"
  }
 },
 "nbformat": 4,
 "nbformat_minor": 5
}
